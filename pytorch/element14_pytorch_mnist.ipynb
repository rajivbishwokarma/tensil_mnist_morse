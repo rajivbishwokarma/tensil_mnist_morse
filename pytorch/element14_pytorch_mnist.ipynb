{
  "nbformat": 4,
  "nbformat_minor": 0,
  "metadata": {
    "colab": {
      "provenance": [],
      "gpuType": "T4"
    },
    "kernelspec": {
      "name": "python3",
      "display_name": "Python 3"
    },
    "language_info": {
      "name": "python"
    },
    "accelerator": "GPU"
  },
  "cells": [
    {
      "cell_type": "markdown",
      "source": [
        "# Part - 1: Training the model"
      ],
      "metadata": {
        "id": "iM7rpP3ZYs5V"
      }
    },
    {
      "cell_type": "code",
      "execution_count": 30,
      "metadata": {
        "id": "cH2g1LQA5OpL"
      },
      "outputs": [],
      "source": [
        "import torch\n",
        "from torch.utils.data import DataLoader\n",
        "from torchvision.transforms import ToTensor\n",
        "from torchvision.datasets import MNIST\n",
        "from torch import nn\n",
        "from torch import flatten\n",
        "from torch.nn import Module, Conv2d, ReLU, MaxPool2d, Linear, BatchNorm2d, Dropout, Softmax\n",
        "from torch.optim import Adam\n",
        "\n",
        "from sklearn.metrics import classification_report\n",
        "from torch.utils.data import random_split\n",
        "\n",
        "import matplotlib.pyplot as plt\n",
        "import numpy as np\n",
        "import time\n",
        "\n",
        "from torchsummary import summary"
      ]
    },
    {
      "cell_type": "code",
      "source": [
        "class LeNet(Module):\n",
        "\tdef __init__(self, numChannels, classes):\n",
        "\t\tsuper(LeNet, self).__init__()\n",
        "\n",
        "\t\tself.conv1 = Conv2d(in_channels=numChannels, out_channels=20, kernel_size=(5, 5))\n",
        "\t\tself.relu1 = ReLU()\n",
        "\t\tself.maxpool1 = MaxPool2d(kernel_size=(2, 2), stride=(2, 2))\n",
        "\n",
        "\t\tself.conv2 = Conv2d(in_channels=20, out_channels=50,\n",
        "\t\t\tkernel_size=(5, 5))\n",
        "\t\tself.relu2 = ReLU()\n",
        "\t\tself.maxpool2 = MaxPool2d(kernel_size=(2, 2), stride=(2, 2))\n",
        "\n",
        "\t\tself.fc1 = Linear(in_features=800, out_features=500)\n",
        "\t\tself.relu3 = ReLU()\n",
        "\t\tself.dropout1 = Dropout(p=0.1)\n",
        "\n",
        "\t\tself.fc2 = Linear(in_features=500, out_features=500)\n",
        "\t\tself.relu4 = ReLU()\n",
        "\t\tself.dropout2 = Dropout(p=0.1)\n",
        "\n",
        "\t\t# initialize our softmax classifier\n",
        "\t\tself.fc3 = Linear(in_features=500, out_features=classes)\n",
        "\t\tself.Softmax = Softmax(dim=1)\n",
        "\n",
        "\tdef forward(self, x):\n",
        "\t\tx = self.maxpool1(self.relu1(self.conv1(x)))\n",
        "\t\tx = self.maxpool2(self.relu2(self.conv2(x)))\n",
        "\t\tx = self.dropout1(self.relu3(self.fc1(flatten(x, 1))))\n",
        "\t\tx = self.dropout2(self.relu4(self.fc2(x)))\n",
        "\t\toutput = self.Softmax(self.fc3(x))\n",
        "\t\treturn output"
      ],
      "metadata": {
        "id": "xLELCbYG6oJh"
      },
      "execution_count": 31,
      "outputs": []
    },
    {
      "cell_type": "code",
      "source": [
        "INIT_LR = 1e-03\n",
        "BATCH_SIZE = 64\n",
        "EPOCHS = 20\n",
        "\n",
        "# Data split\n",
        "TRAIN_SPLIT = 0.75\n",
        "VAL_SPLIT = 1 - TRAIN_SPLIT\n",
        "\n",
        "device = torch.device(\"cuda\" if torch.cuda.is_available() else \"cpu\")\n",
        "\n",
        "# Load training dataset\n",
        "train_data = MNIST(root=\"data\", train=True, download=True, transform=ToTensor())\n",
        "test_data = MNIST(root=\"data\", train=False, download=True, transform=ToTensor())\n",
        "\n",
        "# split train/val\n",
        "train_num = int(len(train_data) * TRAIN_SPLIT)\n",
        "val_num = int(len(train_data) * VAL_SPLIT)\n",
        "\n",
        "(train_data, val_data) = random_split(train_data, [train_num, val_num], generator=torch.Generator().manual_seed(14))\n",
        "\n",
        "# Initialize dataloaders\n",
        "trainDL = DataLoader(train_data, shuffle=True, batch_size=BATCH_SIZE)\n",
        "valDL = DataLoader(val_data, batch_size=BATCH_SIZE)\n",
        "testDL = DataLoader(test_data, batch_size=BATCH_SIZE)\n",
        "\n",
        "train_step = len(trainDL.dataset) // BATCH_SIZE\n",
        "val_step = len(valDL.dataset) // BATCH_SIZE"
      ],
      "metadata": {
        "id": "vvwRAza69USh"
      },
      "execution_count": 33,
      "outputs": []
    },
    {
      "cell_type": "code",
      "source": [
        "# Initialize the model\n",
        "model = LeNet(numChannels = 1, classes=len(train_data.dataset.classes)).to(device)\n",
        "summary(model, (1, 28, 28))\n",
        "optm = Adam(model.parameters(), lr=INIT_LR)\n",
        "loss_fn = nn.CrossEntropyLoss()\n",
        "\n",
        "# for plotting the performance later\n",
        "history = {\n",
        "\t\"train_loss\": [],\n",
        "\t\"train_acc\": [],\n",
        "\t\"val_loss\": [],\n",
        "\t\"val_acc\": []\n",
        "}"
      ],
      "metadata": {
        "colab": {
          "base_uri": "https://localhost:8080/"
        },
        "id": "v3E4jKkC-IuF",
        "outputId": "38c4a65e-1d0e-4ee8-c910-5628f510c403"
      },
      "execution_count": 34,
      "outputs": [
        {
          "output_type": "stream",
          "name": "stdout",
          "text": [
            "----------------------------------------------------------------\n",
            "        Layer (type)               Output Shape         Param #\n",
            "================================================================\n",
            "            Conv2d-1           [-1, 20, 24, 24]             520\n",
            "              ReLU-2           [-1, 20, 24, 24]               0\n",
            "         MaxPool2d-3           [-1, 20, 12, 12]               0\n",
            "            Conv2d-4             [-1, 50, 8, 8]          25,050\n",
            "              ReLU-5             [-1, 50, 8, 8]               0\n",
            "         MaxPool2d-6             [-1, 50, 4, 4]               0\n",
            "            Linear-7                  [-1, 500]         400,500\n",
            "              ReLU-8                  [-1, 500]               0\n",
            "           Dropout-9                  [-1, 500]               0\n",
            "           Linear-10                  [-1, 500]         250,500\n",
            "             ReLU-11                  [-1, 500]               0\n",
            "          Dropout-12                  [-1, 500]               0\n",
            "           Linear-13                   [-1, 10]           5,010\n",
            "          Softmax-14                   [-1, 10]               0\n",
            "================================================================\n",
            "Total params: 681,580\n",
            "Trainable params: 681,580\n",
            "Non-trainable params: 0\n",
            "----------------------------------------------------------------\n",
            "Input size (MB): 0.00\n",
            "Forward/backward pass size (MB): 0.28\n",
            "Params size (MB): 2.60\n",
            "Estimated Total Size (MB): 2.88\n",
            "----------------------------------------------------------------\n"
          ]
        }
      ]
    },
    {
      "cell_type": "code",
      "source": [
        "# training\n",
        "time_start = time.time()\n",
        "\n",
        "for e in range(0, EPOCHS):\n",
        "  model.train()\n",
        "\n",
        "  total_tloss = 0 # training loss\n",
        "  total_vloss = 0 # validation loss\n",
        "\n",
        "  train_correct = 0\n",
        "  val_correct = 0\n",
        "\n",
        "  for (x, y) in trainDL:\n",
        "    (x, y) = (x.to(device), y.to(device))\n",
        "    prediction = model(x)\n",
        "    loss = loss_fn(prediction, y)\n",
        "\n",
        "    optm.zero_grad()\n",
        "    loss.backward()\n",
        "    optm.step()\n",
        "\n",
        "    total_tloss += loss\n",
        "    train_correct += (prediction.argmax(1) == y).type(torch.float).sum().item()\n",
        "\n",
        "  # evaluate model and save\n",
        "  with torch.no_grad():\n",
        "    for (x, y) in valDL:\n",
        "      (x, y) = (x.to(device), y.to(device))\n",
        "      prediction = model(x)\n",
        "      total_vloss += loss_fn(prediction, y)\n",
        "\n",
        "      val_correct += (prediction.argmax(1) == y).type(torch.float).sum().item()\n",
        "\n",
        "  # average training and validation loss\n",
        "  avg_tloss = total_tloss / train_step\n",
        "  avg_vloss = total_vloss / val_step\n",
        "\n",
        "  # training and validation accuracy\n",
        "  train_correct = train_correct / len(trainDL.dataset)\n",
        "  val_correct = val_correct / len(valDL.dataset)\n",
        "\n",
        "  # update training\n",
        "  history[\"train_loss\"].append(avg_tloss.cpu().detach().numpy())\n",
        "  history[\"train_acc\"].append(train_correct)\n",
        "  history[\"val_loss\"].append(avg_vloss.cpu().detach().numpy())\n",
        "  history[\"val_acc\"].append(val_correct)\n",
        "\n",
        "  # print training info\n",
        "  print(f\"EPOCH: {e+1}/{EPOCHS}, Train Loss: {avg_tloss:.4f}, Train Accuracy: {train_correct:.4f}, Validation Loss:{avg_vloss:0.4f}, Validation Accuracy: {val_correct:0.4f}\")\n",
        "\n",
        "  # if (e+1) % 10 == 0:\n",
        "  #   model.eval()\n",
        "  #   torch.save(model, \"model_\" + str(e+1) + \".pth\")\n",
        "  #   print(f\"Model saved at epoch: {e+1}\")\n",
        "\n",
        "time_end = time.time()\n",
        "print(f\"Training Time: {(time_end - time_start):.2f}s\")"
      ],
      "metadata": {
        "colab": {
          "base_uri": "https://localhost:8080/"
        },
        "id": "7ircoqgWAIHe",
        "outputId": "70d569d2-50b9-46aa-a62d-491bf6f84626"
      },
      "execution_count": 35,
      "outputs": [
        {
          "output_type": "stream",
          "name": "stdout",
          "text": [
            "EPOCH: 1/50, Train Loss: 1.5642, Train Accuracy: 0.9027, Validation Loss:1.5002, Validation Accuracy: 0.9677\n",
            "EPOCH: 2/50, Train Loss: 1.4930, Train Accuracy: 0.9706, Validation Loss:1.4967, Validation Accuracy: 0.9711\n",
            "EPOCH: 3/50, Train Loss: 1.4877, Train Accuracy: 0.9759, Validation Loss:1.4938, Validation Accuracy: 0.9733\n",
            "EPOCH: 4/50, Train Loss: 1.4826, Train Accuracy: 0.9809, Validation Loss:1.4878, Validation Accuracy: 0.9799\n",
            "EPOCH: 5/50, Train Loss: 1.4831, Train Accuracy: 0.9801, Validation Loss:1.4883, Validation Accuracy: 0.9792\n",
            "EPOCH: 6/50, Train Loss: 1.4820, Train Accuracy: 0.9814, Validation Loss:1.4866, Validation Accuracy: 0.9807\n",
            "EPOCH: 7/50, Train Loss: 1.4828, Train Accuracy: 0.9804, Validation Loss:1.4891, Validation Accuracy: 0.9781\n",
            "EPOCH: 8/50, Train Loss: 1.4801, Train Accuracy: 0.9831, Validation Loss:1.4876, Validation Accuracy: 0.9797\n",
            "EPOCH: 9/50, Train Loss: 1.4792, Train Accuracy: 0.9840, Validation Loss:1.4891, Validation Accuracy: 0.9784\n",
            "EPOCH: 10/50, Train Loss: 1.4809, Train Accuracy: 0.9822, Validation Loss:1.4923, Validation Accuracy: 0.9751\n",
            "EPOCH: 11/50, Train Loss: 1.4822, Train Accuracy: 0.9812, Validation Loss:1.4971, Validation Accuracy: 0.9701\n",
            "EPOCH: 12/50, Train Loss: 1.4846, Train Accuracy: 0.9786, Validation Loss:1.4959, Validation Accuracy: 0.9715\n",
            "EPOCH: 13/50, Train Loss: 1.4811, Train Accuracy: 0.9821, Validation Loss:1.4878, Validation Accuracy: 0.9796\n",
            "EPOCH: 14/50, Train Loss: 1.4792, Train Accuracy: 0.9841, Validation Loss:1.4866, Validation Accuracy: 0.9808\n",
            "EPOCH: 15/50, Train Loss: 1.4810, Train Accuracy: 0.9821, Validation Loss:1.4916, Validation Accuracy: 0.9756\n",
            "EPOCH: 16/50, Train Loss: 1.4815, Train Accuracy: 0.9818, Validation Loss:1.4835, Validation Accuracy: 0.9839\n",
            "EPOCH: 17/50, Train Loss: 1.4812, Train Accuracy: 0.9820, Validation Loss:1.4897, Validation Accuracy: 0.9777\n",
            "EPOCH: 18/50, Train Loss: 1.4820, Train Accuracy: 0.9812, Validation Loss:1.4872, Validation Accuracy: 0.9801\n",
            "EPOCH: 19/50, Train Loss: 1.4810, Train Accuracy: 0.9822, Validation Loss:1.4886, Validation Accuracy: 0.9787\n",
            "EPOCH: 20/50, Train Loss: 1.4875, Train Accuracy: 0.9757, Validation Loss:1.4944, Validation Accuracy: 0.9728\n",
            "EPOCH: 21/50, Train Loss: 1.4852, Train Accuracy: 0.9781, Validation Loss:1.4871, Validation Accuracy: 0.9804\n",
            "EPOCH: 22/50, Train Loss: 1.4820, Train Accuracy: 0.9813, Validation Loss:1.4873, Validation Accuracy: 0.9801\n",
            "EPOCH: 23/50, Train Loss: 1.4877, Train Accuracy: 0.9756, Validation Loss:1.4992, Validation Accuracy: 0.9683\n",
            "EPOCH: 24/50, Train Loss: 1.4886, Train Accuracy: 0.9746, Validation Loss:1.5012, Validation Accuracy: 0.9663\n",
            "EPOCH: 25/50, Train Loss: 1.4822, Train Accuracy: 0.9811, Validation Loss:1.4852, Validation Accuracy: 0.9822\n",
            "EPOCH: 26/50, Train Loss: 1.4887, Train Accuracy: 0.9745, Validation Loss:1.4965, Validation Accuracy: 0.9710\n",
            "EPOCH: 27/50, Train Loss: 1.4895, Train Accuracy: 0.9736, Validation Loss:1.4984, Validation Accuracy: 0.9689\n",
            "EPOCH: 28/50, Train Loss: 1.4832, Train Accuracy: 0.9800, Validation Loss:1.4934, Validation Accuracy: 0.9740\n",
            "EPOCH: 29/50, Train Loss: 1.4911, Train Accuracy: 0.9721, Validation Loss:1.4880, Validation Accuracy: 0.9795\n",
            "EPOCH: 30/50, Train Loss: 1.4871, Train Accuracy: 0.9763, Validation Loss:1.4918, Validation Accuracy: 0.9756\n",
            "EPOCH: 31/50, Train Loss: 1.4894, Train Accuracy: 0.9740, Validation Loss:1.5130, Validation Accuracy: 0.9544\n",
            "EPOCH: 32/50, Train Loss: 1.4949, Train Accuracy: 0.9683, Validation Loss:1.4981, Validation Accuracy: 0.9693\n",
            "EPOCH: 33/50, Train Loss: 1.4889, Train Accuracy: 0.9743, Validation Loss:1.5018, Validation Accuracy: 0.9656\n",
            "EPOCH: 34/50, Train Loss: 1.4839, Train Accuracy: 0.9793, Validation Loss:1.4864, Validation Accuracy: 0.9810\n",
            "EPOCH: 35/50, Train Loss: 1.4885, Train Accuracy: 0.9747, Validation Loss:1.4897, Validation Accuracy: 0.9777\n",
            "EPOCH: 36/50, Train Loss: 1.4853, Train Accuracy: 0.9779, Validation Loss:1.5016, Validation Accuracy: 0.9659\n",
            "EPOCH: 37/50, Train Loss: 1.4876, Train Accuracy: 0.9756, Validation Loss:1.4877, Validation Accuracy: 0.9797\n",
            "EPOCH: 38/50, Train Loss: 1.4837, Train Accuracy: 0.9796, Validation Loss:1.4968, Validation Accuracy: 0.9707\n",
            "EPOCH: 39/50, Train Loss: 1.4841, Train Accuracy: 0.9791, Validation Loss:1.4866, Validation Accuracy: 0.9809\n",
            "EPOCH: 40/50, Train Loss: 1.4860, Train Accuracy: 0.9772, Validation Loss:1.4999, Validation Accuracy: 0.9675\n",
            "EPOCH: 41/50, Train Loss: 1.4900, Train Accuracy: 0.9732, Validation Loss:1.5009, Validation Accuracy: 0.9667\n",
            "EPOCH: 42/50, Train Loss: 1.4927, Train Accuracy: 0.9705, Validation Loss:1.4979, Validation Accuracy: 0.9695\n",
            "EPOCH: 43/50, Train Loss: 1.4980, Train Accuracy: 0.9652, Validation Loss:1.5026, Validation Accuracy: 0.9649\n",
            "EPOCH: 44/50, Train Loss: 1.5013, Train Accuracy: 0.9619, Validation Loss:1.5027, Validation Accuracy: 0.9649\n",
            "EPOCH: 45/50, Train Loss: 1.4874, Train Accuracy: 0.9758, Validation Loss:1.4899, Validation Accuracy: 0.9775\n",
            "EPOCH: 46/50, Train Loss: 1.4939, Train Accuracy: 0.9695, Validation Loss:1.4943, Validation Accuracy: 0.9732\n",
            "EPOCH: 47/50, Train Loss: 1.4875, Train Accuracy: 0.9759, Validation Loss:1.5156, Validation Accuracy: 0.9518\n",
            "EPOCH: 48/50, Train Loss: 1.4966, Train Accuracy: 0.9666, Validation Loss:1.4920, Validation Accuracy: 0.9754\n",
            "EPOCH: 49/50, Train Loss: 1.4865, Train Accuracy: 0.9767, Validation Loss:1.4907, Validation Accuracy: 0.9767\n",
            "EPOCH: 50/50, Train Loss: 1.4942, Train Accuracy: 0.9690, Validation Loss:1.4953, Validation Accuracy: 0.9722\n",
            "Training Time: 441.55s\n"
          ]
        }
      ]
    },
    {
      "cell_type": "code",
      "source": [
        "# Testing the network\n",
        "with torch.no_grad():\n",
        "  model.eval()\n",
        "  prediction_list = []\n",
        "\n",
        "  for (x, y) in testDL:\n",
        "    x = x.to(device)\n",
        "    prediction = model(x)\n",
        "    prediction_list.extend(prediction.argmax(axis=1).cpu().numpy())\n",
        "\n",
        "  print(classification_report(test_data.targets.cpu().numpy(), np.array(prediction_list), target_names=test_data.classes))"
      ],
      "metadata": {
        "colab": {
          "base_uri": "https://localhost:8080/"
        },
        "id": "XgAtdGZYCfah",
        "outputId": "9e164fe7-282e-46b7-9bed-3a499da41d3a"
      },
      "execution_count": 36,
      "outputs": [
        {
          "output_type": "stream",
          "name": "stdout",
          "text": [
            "              precision    recall  f1-score   support\n",
            "\n",
            "    0 - zero       0.98      0.99      0.98       980\n",
            "     1 - one       0.97      1.00      0.98      1135\n",
            "     2 - two       1.00      0.96      0.98      1032\n",
            "   3 - three       0.99      0.98      0.98      1010\n",
            "    4 - four       1.00      0.96      0.98       982\n",
            "    5 - five       0.99      0.98      0.98       892\n",
            "     6 - six       0.99      0.97      0.98       958\n",
            "   7 - seven       0.97      0.99      0.98      1028\n",
            "   8 - eight       0.98      0.97      0.97       974\n",
            "    9 - nine       0.93      0.98      0.96      1009\n",
            "\n",
            "    accuracy                           0.98     10000\n",
            "   macro avg       0.98      0.98      0.98     10000\n",
            "weighted avg       0.98      0.98      0.98     10000\n",
            "\n"
          ]
        }
      ]
    },
    {
      "cell_type": "code",
      "source": [
        "plt.style.use(\"ggplot\")\n",
        "plt.figure()\n",
        "plt.plot(history[\"train_loss\"], label=\"train_loss\")\n",
        "plt.plot(history[\"val_loss\"], label=\"val_loss\")\n",
        "plt.plot(history[\"train_acc\"], label=\"train_acc\")\n",
        "plt.plot(history[\"val_acc\"], label=\"val_acc\")\n",
        "plt.title(\"e14-ultra96v2 MNIST Training Loss and Accuracy\")\n",
        "plt.xlabel(\"Epoch #\")\n",
        "plt.ylabel(\"Loss/Accuracy\")\n",
        "plt.legend(loc=\"lower left\")\n",
        "plt.show()"
      ],
      "metadata": {
        "id": "NYp9rlInFEhy",
        "colab": {
          "base_uri": "https://localhost:8080/",
          "height": 477
        },
        "outputId": "99768f0f-3327-40c5-876e-09391f5dc468"
      },
      "execution_count": 37,
      "outputs": [
        {
          "output_type": "display_data",
          "data": {
            "text/plain": [
              "<Figure size 640x480 with 1 Axes>"
            ],
            "image/png": "[encoded data removed]"
          },
          "metadata": {}
        }
      ]
    },
    {
      "cell_type": "code",
      "source": [
        "# Save the model\n",
        "torch.save(model, \"model.pth\")"
      ],
      "metadata": {
        "id": "fXGk6JZIMAet"
      },
      "execution_count": 38,
      "outputs": []
    },
    {
      "cell_type": "markdown",
      "source": [
        "# Part - 2: Export to ONNX"
      ],
      "metadata": {
        "id": "6lSdX3FoMwIi"
      }
    },
    {
      "cell_type": "code",
      "source": [
        "!pip3 install onnx\n",
        "import torch.onnx"
      ],
      "metadata": {
        "colab": {
          "base_uri": "https://localhost:8080/"
        },
        "id": "0tFeN60rP875",
        "outputId": "d9d986bc-b809-4ccc-db64-de9640cdca14"
      },
      "execution_count": 39,
      "outputs": [
        {
          "output_type": "stream",
          "name": "stdout",
          "text": [
            "Requirement already satisfied: onnx in /usr/local/lib/python3.10/dist-packages (1.14.1)\n",
            "Requirement already satisfied: numpy in /usr/local/lib/python3.10/dist-packages (from onnx) (1.23.5)\n",
            "Requirement already satisfied: protobuf>=3.20.2 in /usr/local/lib/python3.10/dist-packages (from onnx) (3.20.3)\n",
            "Requirement already satisfied: typing-extensions>=3.6.2.1 in /usr/local/lib/python3.10/dist-packages (from onnx) (4.7.1)\n"
          ]
        }
      ]
    },
    {
      "cell_type": "code",
      "source": [
        "model.eval()\n",
        "dummy_input = torch.randn(1, 1, 28, 28, requires_grad=True).to(device)\n",
        "\n",
        "output_model = \"e14_mnist_\" + str(EPOCHS)+ \"_tacc_\" +str(int(train_correct*100))+\".onnx\"\n",
        "\n",
        "torch.onnx.export(model,\n",
        "                  dummy_input,\n",
        "                  output_model,\n",
        "                  export_params=True,\n",
        "                  opset_version=10,\n",
        "                  do_constant_folding=True,\n",
        "                  input_names = ['x:0'],\n",
        "                  output_names = ['Identity:0'])"
      ],
      "metadata": {
        "colab": {
          "base_uri": "https://localhost:8080/"
        },
        "id": "5zYsWvS0OrP5",
        "outputId": "0ac16809-654c-4471-c6f9-58f205eb59be"
      },
      "execution_count": 40,
      "outputs": [
        {
          "output_type": "stream",
          "name": "stdout",
          "text": [
            "============= Diagnostic Run torch.onnx.export version 2.0.1+cu118 =============\n",
            "verbose: False, log level: Level.ERROR\n",
            "======================= 0 NONE 0 NOTE 0 WARNING 0 ERROR ========================\n",
            "\n"
          ]
        }
      ]
    }
  ]
}